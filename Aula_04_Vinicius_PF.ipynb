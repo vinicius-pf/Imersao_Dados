{
  "nbformat": 4,
  "nbformat_minor": 0,
  "metadata": {
    "colab": {
      "name": "Aula_04_Vinicius_PF.ipynb",
      "provenance": [],
      "collapsed_sections": [],
      "authorship_tag": "ABX9TyOXFWuFPQEDgMzBSWtec2dR",
      "include_colab_link": true
    },
    "kernelspec": {
      "name": "python3",
      "display_name": "Python 3"
    },
    "language_info": {
      "name": "python"
    }
  },
  "cells": [
    {
      "cell_type": "markdown",
      "metadata": {
        "id": "view-in-github",
        "colab_type": "text"
      },
      "source": [
        "<a href=\"https://colab.research.google.com/github/vinicius-pf/Imersao_Dados/blob/main/Aula_04_Vinicius_PF.ipynb\" target=\"_parent\"><img src=\"https://colab.research.google.com/assets/colab-badge.svg\" alt=\"Open In Colab\"/></a>"
      ]
    },
    {
      "cell_type": "code",
      "metadata": {
        "id": "Gg7GVGSOhns7"
      },
      "source": [
        "import pandas as pd\n",
        "import seaborn as sns\n",
        "import matplotlib.pyplot as plt\n",
        "import numpy as np\n",
        "\n",
        "sns.set()\n",
        "\n",
        "url_dados = 'https://github.com/alura-cursos/imersaodados3/blob/main/dados/dados_experimentos.zip?raw=true'\n",
        "url_dados_resultados = 'https://github.com/alura-cursos/imersaodados3/blob/main/dados/dados_resultados.csv'\n",
        "\n",
        "dados = pd.read_csv(url_dados, compression = 'zip')\n",
        "dados_resultados = pd.read_csv(url_dados)\n",
        "\n",
        "dados_renomeados = dados.copy()\n",
        "mapa = {'droga': 'composto'}\n",
        "dados_renomeados.columns = dados_renomeados.columns.str.replace(\"[-]\", \"\")\n",
        "dados_renomeados.rename(columns=mapa, inplace=True)\n",
        "\n",
        "cod_compostos = dados_renomeados['composto'].value_counts().index[0:5]\n",
        "\n",
        "dados_c = dados.loc[:,'c-0':'c-99']\n",
        "dados_c_descritos = dados_c.describe()\n",
        "dados_c_tranpostos = dados_c_descritos.T\n",
        "\n",
        "dados_g = dados.loc[:,'g-0':'g-771']\n",
        "dados_g_descritos = dados_g.describe()\n",
        "dados_g_tranpostos = dados_g_descritos.T\n",
        "\n",
        "\n"
      ],
      "execution_count": null,
      "outputs": []
    }
  ]
}